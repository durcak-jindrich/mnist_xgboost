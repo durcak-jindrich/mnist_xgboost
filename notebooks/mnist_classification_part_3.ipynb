{
 "cells": [
  {
   "cell_type": "markdown",
   "metadata": {},
   "source": [
    "## XGBoost algorithm for MNIST - confusion matrix, Random Forest comparison"
   ]
  },
  {
   "cell_type": "markdown",
   "metadata": {},
   "source": [
    "### package imports, data loading"
   ]
  },
  {
   "cell_type": "code",
   "execution_count": 15,
   "metadata": {},
   "outputs": [],
   "source": [
    "import pandas as pd\n",
    "import numpy as np\n",
    "import matplotlib.pyplot as plt\n",
    "from sklearn import metrics\n",
    "import time"
   ]
  },
  {
   "cell_type": "code",
   "execution_count": 7,
   "metadata": {},
   "outputs": [],
   "source": [
    "data_direcory = \"data\"\n",
    "x_train_pca = pd.read_csv(data_direcory + \"/x_train_pca_final.csv\", header=None)\n",
    "x_test_pca = pd.read_csv(data_direcory + \"/x_test_pca_final.csv\", header=None)\n",
    "\n",
    "#load dataset\n",
    "import tensorflow as tf\n",
    "(x_train, y_train), (x_test, y_test) = tf.keras.datasets.mnist.load_data()\n",
    "\n",
    "x_train = (x_train / 255.0).reshape([60000, 28*28])\n",
    "x_test = (x_test / 255.0).reshape([10000, 28*28])"
   ]
  },
  {
   "cell_type": "code",
   "execution_count": 8,
   "metadata": {},
   "outputs": [
    {
     "name": "stdout",
     "output_type": "stream",
     "text": [
      "Number of training samples: 12000\n",
      "Only unique values are present: True\n"
     ]
    }
   ],
   "source": [
    "# Use only subset samples for each label\n",
    "SUBSET_SIZE = 1200\n",
    "np.random.seed(123)\n",
    "selected_indeces = []\n",
    "for label in np.unique(y_train):\n",
    "    label_indices = np.where(y_train == label)[0]\n",
    "    subsample_label = np.random.choice(label_indices,size=SUBSET_SIZE)\n",
    "    selected_indeces.extend(subsample_label)\n",
    "print(\"Number of training samples: {}\".format(len(selected_indeces)))\n",
    "print(\"Only unique values are present: {}\".format(len(np.unique(subsample_label)) != len(subsample_label)))"
   ]
  },
  {
   "cell_type": "markdown",
   "metadata": {},
   "source": [
    "### Comparison of training time:  Random forest classifier vs. XGBoost"
   ]
  },
  {
   "cell_type": "code",
   "execution_count": 10,
   "metadata": {},
   "outputs": [],
   "source": [
    "x_train_pca_reduced = x_train_pca.iloc[selected_indeces,:]\n",
    "y_train_pca_reduced = y_train[selected_indeces]"
   ]
  },
  {
   "cell_type": "code",
   "execution_count": 12,
   "metadata": {},
   "outputs": [],
   "source": [
    "def predict_and_print_accuracy(model, X, Y, accuracy_info=\"Accuracy\"):\n",
    "    y_pred = model.predict(X)\n",
    "    predictions = [round(value) for value in y_pred]\n",
    "    accuracy = metrics.accuracy_score(Y, predictions)\n",
    "    print(\"{}:\\t{:.2f}%\".format(accuracy_info, accuracy * 100.0))"
   ]
  },
  {
   "cell_type": "markdown",
   "metadata": {},
   "source": [
    "#### Random forest"
   ]
  },
  {
   "cell_type": "code",
   "execution_count": 6,
   "metadata": {},
   "outputs": [
    {
     "name": "stdout",
     "output_type": "stream",
     "text": [
      "Training set size:\t(12000, 40)\n",
      "Training duration:\t6.22 s\n",
      "Testing accuracy:\t93.61%\n"
     ]
    }
   ],
   "source": [
    "from sklearn.ensemble import RandomForestClassifier\n",
    "print(\"Training set size:\\t{}\".format(x_train_pca_reduced.shape))\n",
    "#training\n",
    "start = time.time()\n",
    "rf_clf = RandomForestClassifier()\n",
    "rf_params = {'n_estimators':100}\n",
    "rf_clf.set_params(**rf_params)\n",
    "rf_clf.fit(x_train_pca_reduced, y_train_pca_reduced)\n",
    "end = time.time()\n",
    "print(\"Training duration:\\t{:.2f} s\".format(end - start))\n",
    "\n",
    "#testing\n",
    "predict_and_print_accuracy(rf_clf, x_test_pca, y_test,\"Testing accuracy\")"
   ]
  },
  {
   "cell_type": "markdown",
   "metadata": {},
   "source": [
    "#### XGBoost"
   ]
  },
  {
   "cell_type": "code",
   "execution_count": 173,
   "metadata": {},
   "outputs": [
    {
     "name": "stdout",
     "output_type": "stream",
     "text": [
      "Training set size:\t(12000, 40)\n",
      "Training duration:\t75.46 s\n",
      "Testing accuracy:\t93.40%\n"
     ]
    }
   ],
   "source": [
    "from xgboost import XGBClassifier\n",
    "import os\n",
    "os.environ['KMP_DUPLICATE_LIB_OK']='True' #solve kernel problems during XGBoost training\n",
    "\n",
    "print(\"Training set size:\\t{}\".format(x_train_pca_reduced.shape))\n",
    "#training\n",
    "start = time.time()\n",
    "xgb_clf = XGBClassifier()\n",
    "xgb_params = {'n_estimators': 100, 'eta': 0.01, 'gamma': 0.0, 'max_depth': 6, 'min_child_weight': 4}\n",
    "xgb_clf.set_params(**xgb_params)\n",
    "xgb_clf.fit(x_train_pca_reduced, y_train_pca_reduced)\n",
    "end = time.time()\n",
    "print(\"Training duration:\\t{:.2f} s\".format(end - start))\n",
    "\n",
    "#testing\n",
    "predict_and_print_accuracy(xgb_clf, x_test_pca, y_test, \"Testing accuracy\")"
   ]
  },
  {
   "cell_type": "markdown",
   "metadata": {},
   "source": [
    "### Error analysis"
   ]
  },
  {
   "cell_type": "markdown",
   "metadata": {},
   "source": [
    "#### Confusion matrices"
   ]
  },
  {
   "cell_type": "code",
   "execution_count": 163,
   "metadata": {},
   "outputs": [
    {
     "data": {
      "image/png": "[encoded data removed]",
      "text/plain": [
       "<Figure size 1152x504 with 4 Axes>"
      ]
     },
     "metadata": {
      "needs_background": "light"
     },
     "output_type": "display_data"
    }
   ],
   "source": [
    "y_pred = [round(value) for value in xgb_clf.predict(x_test_pca)]\n",
    "conf_mx_xgb = metrics.confusion_matrix(y_test, y_pred)\n",
    "plot_confusion_matrix(conf_mx_xgb)"
   ]
  },
  {
   "cell_type": "markdown",
   "metadata": {},
   "source": [
    "From the confusion matrix on right, it is clear that most samples are correctly classified and there are only few tiles outside the diagonal that are slightly darker than the rest.  \n",
    "When the diagonal is nullified (right figure), some of the missclassified cases show up. The most problematic case for XGBoost classifier is image with actual class \"4\" that is predicted as \"9\" and vice versa. Also classes \"3\" and \"5\" are often misclassified. On the other hand numbers \"0\" and \"1\" are almost always correctly classified."
   ]
  },
  {
   "cell_type": "code",
   "execution_count": 162,
   "metadata": {},
   "outputs": [],
   "source": [
    "def plot_confusion_matrix(conf_mx):\n",
    "    title_fontsize = 14\n",
    "    label_fontsize = 12\n",
    "    colormap_shrink = 0.8\n",
    "    \n",
    "    fig,(ax1,ax2) = plt.subplots(1,2, figsize=(16,7), constrained_layout=True)\n",
    "    plt.subplots_adjust(wspace=0.3)\n",
    "    \n",
    "    cm1 = ax1.matshow(conf_mx, cmap=plt.cm.Blues)\n",
    "    fig.colorbar(cm1,ax=ax1,shrink=colormap_shrink)\n",
    "    ax1.set_xticks(range(0,10))\n",
    "    ax1.xaxis.set_ticks_position('bottom')\n",
    "    ax1.set_yticks(range(0,10))\n",
    "    ax1.set_ylabel(\"Actual class\", fontsize=label_fontsize)\n",
    "    ax1.set_xlabel(\"Predicted class\", fontsize=label_fontsize)\n",
    "    ax1.set_title(\"XGBoost confusion matrix\", fontsize=title_fontsize)\n",
    "    \n",
    "    # nullify the diagonal to get more info about errors\n",
    "    diag_indices = np.diag_indices(len(conf_mx))\n",
    "    nullified_conf_mx = np.copy(conf_mx)\n",
    "    nullified_conf_mx[diag_indices] = 0\n",
    "    cm2 = ax2.matshow(nullified_conf_mx, cmap=plt.cm.Reds)\n",
    "    fig.colorbar(cm2,ax=ax2,shrink=colormap_shrink)\n",
    "    ax2.set_xticks(range(0,10))\n",
    "    ax2.xaxis.set_ticks_position('bottom')\n",
    "    ax2.set_yticks(range(0,10))\n",
    "    ax2.set_ylabel(\"Actual class\", fontsize=label_fontsize)\n",
    "    ax2.set_xlabel(\"Predicted class\", fontsize=label_fontsize)\n",
    "    ax2.set_title(\"XGBoost confusion matrix (nullified diagonal)\", fontsize=title_fontsize)"
   ]
  }
 ],
 "metadata": {
  "kernelspec": {
   "display_name": "Python 3",
   "language": "python",
   "name": "python3"
  },
  "language_info": {
   "codemirror_mode": {
    "name": "ipython",
    "version": 3
   },
   "file_extension": ".py",
   "mimetype": "text/x-python",
   "name": "python",
   "nbconvert_exporter": "python",
   "pygments_lexer": "ipython3",
   "version": "3.6.6"
  }
 },
 "nbformat": 4,
 "nbformat_minor": 2
}
