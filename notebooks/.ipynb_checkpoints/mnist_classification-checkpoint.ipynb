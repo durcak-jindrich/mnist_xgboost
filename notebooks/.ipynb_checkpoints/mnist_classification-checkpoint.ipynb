{
 "cells": [
  {
   "cell_type": "markdown",
   "metadata": {},
   "source": [
    "## XGBoost algorithm for MNIST dataset classification"
   ]
  },
  {
   "cell_type": "markdown",
   "metadata": {},
   "source": [
    "### package imports, data loading"
   ]
  },
  {
   "cell_type": "code",
   "execution_count": 1,
   "metadata": {},
   "outputs": [],
   "source": [
    "import numpy as np\n",
    "import pandas as pd\n",
    "import xgboost as xgb\n",
    "import tensorflow as tf\n",
    "import matplotlib.pyplot as plt\n",
    "from xgboost.sklearn import XGBClassifier\n",
    "from sklearn.model_selection import cross_validate, GridSearchCV\n",
    "from sklearn import metrics"
   ]
  },
  {
   "cell_type": "code",
   "execution_count": 7,
   "metadata": {},
   "outputs": [],
   "source": [
    "#solve kernel problems during XGBoost training\n",
    "import os\n",
    "os.environ['KMP_DUPLICATE_LIB_OK']='True'"
   ]
  },
  {
   "cell_type": "code",
   "execution_count": 8,
   "metadata": {},
   "outputs": [],
   "source": [
    "#load dataset\n",
    "(x_train, y_train), (x_test, y_test) = tf.keras.datasets.mnist.load_data()"
   ]
  },
  {
   "cell_type": "code",
   "execution_count": 16,
   "metadata": {},
   "outputs": [],
   "source": [
    "print(type(x_train))\n",
    "print(x_train.shape)\n",
    "print(type(x_test))\n",
    "print(x_test.shape)"
   ]
  },
  {
   "cell_type": "markdown",
   "metadata": {},
   "source": [
    "### Data exploration"
   ]
  },
  {
   "cell_type": "markdown",
   "metadata": {},
   "source": [
    "- Plot several pictures with their respective labels"
   ]
  },
  {
   "cell_type": "code",
   "execution_count": 10,
   "metadata": {},
   "outputs": [
    {
     "data": {
      "image/png": "[encoded data removed]",
      "text/plain": [
       "<Figure size 1296x360 with 6 Axes>"
      ]
     },
     "metadata": {},
     "output_type": "display_data"
    }
   ],
   "source": [
    "plt.figure(figsize=(18,5))\n",
    "picture_indeces = [444,666,7777,7788,13987,33145]\n",
    "for i in range(len(picture_indeces)):\n",
    "    ax = plt.subplot(1,len(picture_indeces),i+1)\n",
    "    image_index = picture_indeces[i]\n",
    "    plt.imshow(x_train[image_index], cmap='Greys')\n",
    "    #don't show ticks and labels\n",
    "    plt.tick_params(axis='x',which='both',bottom=False, labelbottom=False)\n",
    "    plt.tick_params(axis='y',which='both',left=False, labelleft=False)\n",
    "    plt.title(\"Image label: \\\"{}\\\"\".format(y_train[image_index]))"
   ]
  },
  {
   "cell_type": "markdown",
   "metadata": {},
   "source": [
    "- Show histogram of labels"
   ]
  },
  {
   "cell_type": "code",
   "execution_count": 11,
   "metadata": {
    "scrolled": false
   },
   "outputs": [
    {
     "data": {
      "image/png": "[encoded data removed]",
      "text/plain": [
       "<Figure size 1080x432 with 1 Axes>"
      ]
     },
     "metadata": {
      "needs_background": "light"
     },
     "output_type": "display_data"
    }
   ],
   "source": [
    "plt.figure(figsize=(15,6))\n",
    "bins = np.arange(11) - 0.5 #to center xticks\n",
    "plt.hist(y_train, edgecolor='black', linewidth=1.2, bins=bins, alpha=0.8)\n",
    "plt.title(\"Histogram of labels in training set\", fontsize=20)\n",
    "plt.xlabel(\"Picture label\", fontsize=12)\n",
    "plt.ylabel(\"Count\", fontsize=12)\n",
    "plt.xticks(range(0,10))\n",
    "plt.show()"
   ]
  },
  {
   "cell_type": "markdown",
   "metadata": {},
   "source": [
    "### XGBoost model training"
   ]
  },
  {
   "cell_type": "markdown",
   "metadata": {},
   "source": [
    "1. Data preprocessing - flattening images to 1D arrays and rescaling grey shade values from [0,255] to [0,1]\n",
    "2. XGBClassifier model training"
   ]
  },
  {
   "cell_type": "code",
   "execution_count": 12,
   "metadata": {},
   "outputs": [
    {
     "name": "stdout",
     "output_type": "stream",
     "text": [
      "x_train shape: (60000, 784)\n",
      "Number of images in x_train: 60000\n",
      "Number of images in x_test:  10000\n"
     ]
    }
   ],
   "source": [
    "x_train = (x_train / 255.0).reshape([60000, 28*28])\n",
    "x_test = (x_test / 255.0).reshape([10000, 28*28])\n",
    "print('x_train shape:', x_train.shape)\n",
    "print('Number of images in x_train:', x_train.shape[0])\n",
    "print('Number of images in x_test: ', x_test.shape[0])\n",
    "\n",
    "# x_train = pd.DataFrame(x_train)\n",
    "# x_test = pd.DataFrame(x_test)\n",
    "# y_train = pd.DataFrame(y_train)\n",
    "# y_test = pd.DataFrame(y_test)"
   ]
  },
  {
   "cell_type": "code",
   "execution_count": 13,
   "metadata": {},
   "outputs": [
    {
     "name": "stdout",
     "output_type": "stream",
     "text": [
      "<class 'numpy.ndarray'>\n",
      "(60000, 784)\n",
      "<class 'numpy.ndarray'>\n",
      "(60000,)\n",
      "Training duration: 1930.89 s\n"
     ]
    }
   ],
   "source": [
    "from xgboost import XGBClassifier\n",
    "import time\n",
    "start = time.time()\n",
    "\n",
    "print(type(x_train))\n",
    "print(x_train.shape)\n",
    "print(type(y_train))\n",
    "print(y_train.shape)\n",
    "\n",
    "model = XGBClassifier()\n",
    "model.fit(x_train, y_train)\n",
    "\n",
    "end = time.time()\n",
    "print(\"Training duration: {:.2f} s\".format(end - start))\n",
    "\n"
   ]
  },
  {
   "cell_type": "code",
   "execution_count": 14,
   "metadata": {},
   "outputs": [
    {
     "name": "stdout",
     "output_type": "stream",
     "text": [
      "Accuracy: 93.68%\n"
     ]
    }
   ],
   "source": [
    "y_pred = model.predict(x_test)\n",
    "predictions = [round(value) for value in y_pred]\n",
    "# evaluate predictions\n",
    "accuracy = accuracy_score(y_test, predictions)\n",
    "print(\"Accuracy: %.2f%%\" % (accuracy * 100.0))"
   ]
  },
  {
   "cell_type": "markdown",
   "metadata": {},
   "source": [
    "Since a single training of XGBClassifier for MNIST training dataset takes 1930.89 s (~ 32 minutes), it is not a great candidate for model tuning. The training dataset needs to be reduced (or half of the pixels might be omitted).  \n",
    "It should be noted that with default settings and no tuning, the accuracy was 93.68%."
   ]
  },
  {
   "cell_type": "markdown",
   "metadata": {},
   "source": [
    "### Parameter tuning"
   ]
  },
  {
   "cell_type": "markdown",
   "metadata": {},
   "source": [
    "#### General Parameters\n",
    "Overall functionality of XGBoost.\n",
    "1. booster [default=gbtree]\n",
    "Select the type of model to run at each iteration. It has 2 options:\n",
    "gbtree: tree-based models\n",
    "gblinear: linear models\n",
    "2. silent [default=0]:\n",
    "Silent mode is activated is set to 1, i.e. no running messages will be printed.\n",
    "It’s generally good to keep it 0 as the messages might help in understanding the model.\n",
    "3. nthread [default to maximum number of threads available if not set]\n",
    "This is used for parallel processing and number of cores in the system should be entered\n",
    "If you wish to run on all cores, value should not be entered and algorithm will detect automatically\n",
    "There are 2 more parameters which are set automatically by XGBoost and you need not worry about them. Lets move on to Booster parameters."
   ]
  },
  {
   "cell_type": "markdown",
   "metadata": {},
   "source": [
    "#### Booster Parameters\n",
    "Consider only tree booster here because it always outperforms the linear booster and thus the later is rarely used.\n",
    "\n",
    "1. eta [default=0.3]  \n",
    "Analogous to learning rate in GBM. \n",
    "Makes the model more robust by shrinking the weights on each step.  \n",
    "Typical final values to be used: 0.01-0.2\n",
    "2. min_child_weight [default=1]  \n",
    "Defines the minimum sum of weights of all observations required in a child.\n",
    "This is similar to min_child_leaf in GBM but not exactly. This refers to min “sum of weights” of observations while GBM has min “number of observations”.\n",
    "Used to control over-fitting. Higher values prevent a model from learning relations which might be highly specific to the particular sample selected for a tree.  \n",
    "Too high values can lead to under-fitting hence, it should be tuned using CV.\n",
    "3. max_depth [default=6]  \n",
    "The maximum depth of a tree, same as GBM.\n",
    "Used to control over-fitting as higher depth will allow model to learn relations very specific to a particular sample.\n",
    "Should be tuned using CV.  \n",
    "Typical values: 3-10\n",
    "4. max_leaf_nodes  \n",
    "The maximum number of terminal nodes or leaves in a tree.\n",
    "Can be defined in place of max_depth. Since binary trees are created, a depth of ‘n’ would produce a maximum of 2^n leaves.  \n",
    "If this is defined, GBM will ignore max_depth.\n",
    "5. gamma [default=0]  \n",
    "A node is split only when the resulting split gives a positive reduction in the loss function. Gamma specifies the minimum loss reduction required to make a split.\n",
    "Makes the algorithm conservative. The values can vary depending on the loss function and should be tuned.\n",
    "6. max_delta_step [default=0]  \n",
    "In maximum delta step we allow each tree’s weight estimation to be. If the value is set to 0, it means there is no constraint. If it is set to a positive value, it can help making the update step more conservative.\n",
    "Usually this parameter is not needed, but it might help in logistic regression when class is extremely imbalanced.\n",
    "This is generally not used but you can explore further if you wish.\n",
    "7. subsample [default=1]  \n",
    "Same as the subsample of GBM. Denotes the fraction of observations to be randomly samples for each tree.\n",
    "Lower values make the algorithm more conservative and prevents overfitting but too small values might lead to under-fitting.  \n",
    "Typical values: 0.5-1\n",
    "8. colsample_bytree [default=1]  \n",
    "Similar to max_features in GBM. Denotes the fraction of columns to be randomly samples for each tree.  \n",
    "Typical values: 0.5-1\n",
    "9. colsample_bylevel [default=1]  \n",
    "Denotes the subsample ratio of columns for each split, in each level.\n",
    "I don’t use this often because subsample and colsample_bytree will do the job for you. but you can explore further if you feel so.\n",
    "10. lambda [default=1]  \n",
    "L2 regularization term on weights (analogous to Ridge regression)\n",
    "This used to handle the regularization part of XGBoost. Though many data scientists don’t use it often, it should be explored to reduce overfitting.\n",
    "11. alpha [default=0]  \n",
    "L1 regularization term on weight (analogous to Lasso regression).\n",
    "Can be used in case of very high dimensionality so that the algorithm runs faster when implemented\n",
    "scale_pos_weight [default=1]    \n",
    "A value greater than 0 should be used in case of high class imbalance as it helps in faster convergence."
   ]
  },
  {
   "cell_type": "markdown",
   "metadata": {},
   "source": [
    "#### Learning Task Parameters\n",
    "These parameters are used to define the optimization objective the metric to be calculated at each step.\n",
    "\n",
    "1. objective [default=reg:linear]  \n",
    "This defines the loss function to be minimized. Mostly used values are:\n",
    "binary:logistic –logistic regression for binary classification, returns predicted probability (not class)\n",
    "multi:softmax –multiclass classification using the softmax objective, returns predicted class (not probabilities)\n",
    "you also need to set an additional num_class (number of classes) parameter defining the number of unique classes\n",
    "multi:softprob –same as softmax, but returns predicted probability of each data point belonging to each class.\n",
    "2. eval_metric [ default according to objective ]  \n",
    "The metric to be used for validation data.\n",
    "The default values are rmse for regression and error for classification.\n",
    "Typical values are:\n",
    "rmse – root mean square error\n",
    "mae – mean absolute error\n",
    "logloss – negative log-likelihood\n",
    "error – Binary classification error rate (0.5 threshold)\n",
    "merror – Multiclass classification error rate\n",
    "mlogloss – Multiclass logloss\n",
    "auc: Area under the curve\n",
    "3. seed [default=0]  \n",
    "The random number seed.\n",
    "Can be used for generating reproducible results and also for parameter tuning.\n",
    "Sklearn naming convention:\n",
    "- eta –> learning_rate\n",
    "- lambda –> reg_lambda\n",
    "- alpha –> reg_alpha"
   ]
  },
  {
   "cell_type": "code",
   "execution_count": null,
   "metadata": {},
   "outputs": [],
   "source": []
  },
  {
   "cell_type": "code",
   "execution_count": null,
   "metadata": {},
   "outputs": [],
   "source": []
  },
  {
   "cell_type": "code",
   "execution_count": null,
   "metadata": {},
   "outputs": [],
   "source": []
  },
  {
   "cell_type": "code",
   "execution_count": null,
   "metadata": {},
   "outputs": [],
   "source": []
  },
  {
   "cell_type": "code",
   "execution_count": null,
   "metadata": {},
   "outputs": [],
   "source": []
  },
  {
   "cell_type": "code",
   "execution_count": null,
   "metadata": {},
   "outputs": [],
   "source": [
    "def modelfit(alg, dtrain, predictors,useTrainCV=True, cv_folds=5, early_stopping_rounds=50):\n",
    "    if useTrainCV:\n",
    "        xgb_param = alg.get_xgb_params()\n",
    "        xgtrain = xgb.DMatrix(dtrain[predictors].values, label=dtrain[target].values)\n",
    "        cvresult = xgb.cv(xgb_param, xgtrain, num_boost_round=alg.get_params()['n_estimators'], nfold=cv_folds,\n",
    "            metrics='auc', early_stopping_rounds=early_stopping_rounds, show_progress=False)\n",
    "        alg.set_params(n_estimators=cvresult.shape[0])\n",
    "    \n",
    "    #Fit the algorithm on the data\n",
    "    alg.fit(dtrain[predictors], dtrain['Disbursed'],eval_metric='auc')\n",
    "        \n",
    "    #Predict training set:\n",
    "    dtrain_predictions = alg.predict(dtrain[predictors])\n",
    "    dtrain_predprob = alg.predict_proba(dtrain[predictors])[:,1]\n",
    "        \n",
    "    #Print model report:\n",
    "    print \"\\nModel Report\"\n",
    "    print \"Accuracy : %.4g\" % metrics.accuracy_score(dtrain['Disbursed'].values, dtrain_predictions)\n",
    "    print \"AUC Score (Train): %f\" % metrics.roc_auc_score(dtrain['Disbursed'], dtrain_predprob)\n",
    "                    \n",
    "    feat_imp = pd.Series(alg.booster().get_fscore()).sort_values(ascending=False)\n",
    "    feat_imp.plot(kind='bar', title='Feature Importances')\n",
    "    plt.ylabel('Feature Importance Score')"
   ]
  },
  {
   "cell_type": "code",
   "execution_count": null,
   "metadata": {},
   "outputs": [],
   "source": [
    "# XGBoost model for Pima Indians dataset\n",
    "from numpy import loadtxt\n",
    "from xgboost import XGBClassifier\n",
    "from sklearn.model_selection import train_test_split\n",
    "from sklearn.metrics import accuracy_score\n",
    "# load data\n",
    "dataset = loadtxt('pima-indians-diabetes.data.csv', delimiter=\",\")\n",
    "# split data into X and y\n",
    "X = dataset[:,0:8]\n",
    "Y = dataset[:,8]\n",
    "# split data into train and test sets\n",
    "seed = 7\n",
    "test_size = 0.33\n",
    "X_train, X_test, y_train, y_test = train_test_split(X, Y, test_size=test_size, random_state=seed)\n",
    "# fit model no training data\n",
    "model = XGBClassifier()\n",
    "print(type(X_train))\n",
    "print(X_train.shape)\n",
    "print(type(y_train))\n",
    "print(y_train.shape)\n",
    "\n",
    "model.fit(X_train, y_train)\n",
    "# make predictions for test data\n",
    "y_pred = model.predict(X_test)\n",
    "predictions = [round(value) for value in y_pred]\n",
    "# evaluate predictions\n",
    "accuracy = accuracy_score(y_test, predictions)\n",
    "print(\"Accuracy: %.2f%%\" % (accuracy * 100.0))"
   ]
  },
  {
   "cell_type": "code",
   "execution_count": null,
   "metadata": {},
   "outputs": [],
   "source": []
  }
 ],
 "metadata": {
  "kernelspec": {
   "display_name": "Python 3",
   "language": "python",
   "name": "python3"
  },
  "language_info": {
   "codemirror_mode": {
    "name": "ipython",
    "version": 3
   },
   "file_extension": ".py",
   "mimetype": "text/x-python",
   "name": "python",
   "nbconvert_exporter": "python",
   "pygments_lexer": "ipython3",
   "version": "3.6.6"
  }
 },
 "nbformat": 4,
 "nbformat_minor": 2
}
