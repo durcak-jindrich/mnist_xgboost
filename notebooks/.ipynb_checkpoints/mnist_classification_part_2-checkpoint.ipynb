{
 "cells": [
  {
   "cell_type": "markdown",
   "metadata": {},
   "source": [
    "## XGBoost algorithm for MNIST dataset classification (Part 2/2)"
   ]
  },
  {
   "cell_type": "markdown",
   "metadata": {},
   "source": [
    "### package imports, data loading"
   ]
  },
  {
   "cell_type": "code",
   "execution_count": 76,
   "metadata": {},
   "outputs": [],
   "source": [
    "import pandas as pd\n",
    "import numpy as np\n",
    "import matplotlib.pyplot as plt\n",
    "\n",
    "from xgboost import XGBClassifier\n",
    "from sklearn.model_selection import GridSearchCV\n",
    "from sklearn import metrics\n",
    "import time\n",
    "\n",
    "#solve kernel problems during XGBoost training\n",
    "import os\n",
    "os.environ['KMP_DUPLICATE_LIB_OK']='True'\n",
    "\n",
    "from matplotlib import colors\n",
    "digit_colors = [\"red\",\"yellow\",\"black\",\"blue\",\"plum\",\"magenta\",\"aqua\",\"lime\",\"orange\",\"olive\"]"
   ]
  },
  {
   "cell_type": "code",
   "execution_count": 77,
   "metadata": {},
   "outputs": [],
   "source": [
    "#load data that was prepared in Part 1/2\n",
    "data_direcory = \"data\"\n",
    "y_train = pd.read_csv(data_direcory + \"/y_train.csv\", header=None)\n",
    "y_test = pd.read_csv(data_direcory + \"/y_test.csv\", header=None)\n",
    "y_train.columns = ['label']\n",
    "y_test.columns = ['label']\n",
    "\n",
    "x_train_pca = pd.read_csv(data_direcory + \"/x_train_pca_final.csv\", header=None)\n",
    "x_test_pca = pd.read_csv(data_direcory + \"/x_test_pca_final.csv\", header=None)\n"
   ]
  },
  {
   "cell_type": "markdown",
   "metadata": {},
   "source": [
    "### XGBoost parameter description"
   ]
  },
  {
   "cell_type": "markdown",
   "metadata": {},
   "source": [
    "#### General Parameters\n",
    "Overall functionality of XGBoost.\n",
    "1. booster [default=gbtree]\n",
    "Select the type of model to run at each iteration. It has 2 options:\n",
    "gbtree: tree-based models\n",
    "gblinear: linear models\n",
    "2. silent [default=0]:\n",
    "Silent mode is activated is set to 1, i.e. no running messages will be printed.\n",
    "It’s generally good to keep it 0 as the messages might help in understanding the model.\n",
    "3. nthread [default to maximum number of threads available if not set]\n",
    "This is used for parallel processing and number of cores in the system should be entered\n",
    "If you wish to run on all cores, value should not be entered and algorithm will detect automatically\n",
    "There are 2 more parameters which are set automatically by XGBoost and you need not worry about them. Lets move on to Booster parameters."
   ]
  },
  {
   "cell_type": "markdown",
   "metadata": {},
   "source": [
    "#### Booster Parameters\n",
    "Consider only tree booster here because it always outperforms the linear booster and thus the later is rarely used.\n",
    "\n",
    "1. eta [default=0.3]  \n",
    "Analogous to learning rate in GBM. \n",
    "Makes the model more robust by shrinking the weights on each step.  \n",
    "Typical final values to be used: 0.01-0.2\n",
    "2. min_child_weight [default=1]  \n",
    "Defines the minimum sum of weights of all observations required in a child.\n",
    "This is similar to min_child_leaf in GBM but not exactly. This refers to min “sum of weights” of observations while GBM has min “number of observations”.\n",
    "Used to control over-fitting. Higher values prevent a model from learning relations which might be highly specific to the particular sample selected for a tree.  \n",
    "Too high values can lead to under-fitting hence, it should be tuned using CV.\n",
    "3. max_depth [default=6]  \n",
    "The maximum depth of a tree, same as GBM.\n",
    "Used to control over-fitting as higher depth will allow model to learn relations very specific to a particular sample.\n",
    "Should be tuned using CV.  \n",
    "Typical values: 3-10\n",
    "4. max_leaf_nodes  \n",
    "The maximum number of terminal nodes or leaves in a tree.\n",
    "Can be defined in place of max_depth. Since binary trees are created, a depth of ‘n’ would produce a maximum of 2^n leaves.  \n",
    "If this is defined, GBM will ignore max_depth.\n",
    "5. gamma [default=0]  \n",
    "A node is split only when the resulting split gives a positive reduction in the loss function. Gamma specifies the minimum loss reduction required to make a split.\n",
    "Makes the algorithm conservative. The values can vary depending on the loss function and should be tuned.\n",
    "6. max_delta_step [default=0]  \n",
    "In maximum delta step we allow each tree’s weight estimation to be. If the value is set to 0, it means there is no constraint. If it is set to a positive value, it can help making the update step more conservative.\n",
    "Usually this parameter is not needed, but it might help in logistic regression when class is extremely imbalanced.\n",
    "This is generally not used but you can explore further if you wish.\n",
    "7. subsample [default=1]  \n",
    "Same as the subsample of GBM. Denotes the fraction of observations to be randomly samples for each tree.\n",
    "Lower values make the algorithm more conservative and prevents overfitting but too small values might lead to under-fitting.  \n",
    "Typical values: 0.5-1\n",
    "8. colsample_bytree [default=1]  \n",
    "Similar to max_features in GBM. Denotes the fraction of columns to be randomly samples for each tree.  \n",
    "Typical values: 0.5-1\n",
    "9. colsample_bylevel [default=1]  \n",
    "Denotes the subsample ratio of columns for each split, in each level.\n",
    "I don’t use this often because subsample and colsample_bytree will do the job for you. but you can explore further if you feel so.\n",
    "10. lambda [default=1]  \n",
    "L2 regularization term on weights (analogous to Ridge regression)\n",
    "This used to handle the regularization part of XGBoost. Though many data scientists don’t use it often, it should be explored to reduce overfitting.\n",
    "11. alpha [default=0]  \n",
    "L1 regularization term on weight (analogous to Lasso regression).\n",
    "Can be used in case of very high dimensionality so that the algorithm runs faster when implemented\n",
    "scale_pos_weight [default=1]    \n",
    "A value greater than 0 should be used in case of high class imbalance as it helps in faster convergence."
   ]
  },
  {
   "cell_type": "markdown",
   "metadata": {},
   "source": [
    "#### Learning Task Parameters\n",
    "These parameters are used to define the optimization objective the metric to be calculated at each step.\n",
    "\n",
    "1. objective [default=reg:linear]  \n",
    "This defines the loss function to be minimized. Mostly used values are:\n",
    "binary:logistic –logistic regression for binary classification, returns predicted probability (not class)\n",
    "multi:softmax –multiclass classification using the softmax objective, returns predicted class (not probabilities)\n",
    "you also need to set an additional num_class (number of classes) parameter defining the number of unique classes\n",
    "multi:softprob –same as softmax, but returns predicted probability of each data point belonging to each class.\n",
    "2. eval_metric [ default according to objective ]  \n",
    "The metric to be used for validation data.\n",
    "The default values are rmse for regression and error for classification.\n",
    "Typical values are:\n",
    "rmse – root mean square error\n",
    "mae – mean absolute error\n",
    "logloss – negative log-likelihood\n",
    "error – Binary classification error rate (0.5 threshold)\n",
    "merror – Multiclass classification error rate\n",
    "mlogloss – Multiclass logloss\n",
    "auc: Area under the curve\n",
    "3. seed [default=0]  \n",
    "The random number seed.  \n",
    "Can be used for generating reproducible results and also for parameter tuning.  \n",
    "\n",
    "XGBoost vs. Sklearn naming convention (xgboost –> sklearn): \n",
    "- eta –> learning_rate\n",
    "- lambda –> reg_lambda\n",
    "- alpha –> reg_alpha"
   ]
  },
  {
   "cell_type": "code",
   "execution_count": 11,
   "metadata": {},
   "outputs": [
    {
     "name": "stdout",
     "output_type": "stream",
     "text": [
      "Training set shape: (60000, 40)\n",
      "Training duration: 270.93 s\n",
      "Accuracy: 91.11%\n"
     ]
    }
   ],
   "source": [
    "#classification (PCA data)\n",
    "start = time.time()\n",
    "print(\"Training set shape: {}\".format(x_train_pca.shape))\n",
    "model = XGBClassifier()\n",
    "model.fit(x_train_pca, y_train)\n",
    "end = time.time()\n",
    "print(\"Training duration: {:.2f} s\".format(end - start))\n",
    "\n",
    "#testing\n",
    "y_pred = model.predict(x_test_pca)\n",
    "predictions = [round(value) for value in y_pred]\n",
    "accuracy = metrics.accuracy_score(y_test, predictions)\n",
    "print(\"Accuracy: {:.2f}%\".format(accuracy * 100.0))"
   ]
  },
  {
   "cell_type": "markdown",
   "metadata": {},
   "source": [
    "Training of XGBoost for the whole reduced dataset (matrix 60000 x 40) takes more than 4 minutes. For the purpose of cross-validation tuning of parameters, only a subset will be used (variable `SUBSET_SIZE`). Labels of reduced dataset will be equally distributed based on size of the subset."
   ]
  },
  {
   "cell_type": "code",
   "execution_count": 78,
   "metadata": {},
   "outputs": [
    {
     "name": "stdout",
     "output_type": "stream",
     "text": [
      "Number of training samples: 12000\n",
      "Only unique values are present: True\n"
     ]
    }
   ],
   "source": [
    "# Use only subset samples for each label\n",
    "SUBSET_SIZE = 1200\n",
    "np.random.seed(123)\n",
    "selected_indeces = []\n",
    "for label in np.unique(y_train):\n",
    "    label_indices = np.where(y_train == label)[0]\n",
    "    subsample_label = np.random.choice(label_indices,size=SUBSET_SIZE)\n",
    "    selected_indeces.extend(subsample_label)\n",
    "print(\"Number of training samples: {}\".format(len(selected_indeces)))\n",
    "print(\"Only unique values are present: {}\".format(len(np.unique(subsample_label)) != len(subsample_label)))"
   ]
  },
  {
   "cell_type": "code",
   "execution_count": 79,
   "metadata": {},
   "outputs": [],
   "source": [
    "import tensorflow as tf\n",
    "\n",
    "#load dataset\n",
    "(x_train, y_train), (x_test, y_test) = tf.keras.datasets.mnist.load_data()\n",
    "\n",
    "x_train = (x_train / 255.0).reshape([60000, 28*28])\n",
    "x_test = (x_test / 255.0).reshape([10000, 28*28])\n",
    "reduced_x_train = x_train[selected_indeces]\n",
    "reduced_y_train = y_train[selected_indeces]"
   ]
  },
  {
   "cell_type": "code",
   "execution_count": 80,
   "metadata": {},
   "outputs": [
    {
     "data": {
      "image/png": "[encoded data removed]",
      "text/plain": [
       "<Figure size 1080x432 with 1 Axes>"
      ]
     },
     "metadata": {
      "needs_background": "light"
     },
     "output_type": "display_data"
    }
   ],
   "source": [
    "plt.figure(figsize=(15,6))\n",
    "bins = np.arange(11) - 0.5 #to center xticks\n",
    "plt.hist(reduced_y_train, edgecolor='black', linewidth=1.2, bins=bins, alpha=0.8)\n",
    "plt.title(\"Histogram of labels in training set (reduced dataset)\", fontsize=20)\n",
    "plt.xlabel(\"Picture label\", fontsize=12)\n",
    "plt.ylabel(\"Count\", fontsize=12)\n",
    "plt.xticks(range(0,10))\n",
    "plt.show()"
   ]
  },
  {
   "cell_type": "markdown",
   "metadata": {},
   "source": [
    "### Model tuning, Cross-validation grid search"
   ]
  },
  {
   "cell_type": "code",
   "execution_count": 81,
   "metadata": {},
   "outputs": [
    {
     "name": "stdout",
     "output_type": "stream",
     "text": [
      "Training set size:\t(12000, 40)\n",
      "Labels set size:\t(12000,)\n"
     ]
    }
   ],
   "source": [
    "x_train_pca_reduced = x_train_pca.iloc[selected_indeces,:]\n",
    "y_train_pca_reduced = y_train[selected_indeces]\n",
    "\n",
    "print(\"Training set size:\\t{}\".format(x_train_pca_reduced.shape))\n",
    "print(\"Labels set size:\\t{}\".format(y_train_pca_reduced.shape))"
   ]
  },
  {
   "cell_type": "code",
   "execution_count": 38,
   "metadata": {
    "scrolled": true
   },
   "outputs": [
    {
     "name": "stdout",
     "output_type": "stream",
     "text": [
      "Training set shape: (12000, 40)\n",
      "Training duration: 06h:13m:32s\n",
      "Best parameters: {'eta': 0.01, 'gamma': 0.0, 'max_depth': 6, 'min_child_weight': 4}\n",
      "Best score: 0.9380\n",
      "Accuracy: 93.40%\n"
     ]
    }
   ],
   "source": [
    "#classification (PCA data)\n",
    "start = time.time()\n",
    "xgb_model = XGBClassifier()\n",
    "\n",
    "test_params = {\n",
    "    'eta':[0.01,0.1,0.2],\n",
    "    'min_child_weight':[4,5,6],\n",
    "    'max_depth':[4,5,6],\n",
    "    'gamma':[0.0,0.2,0.4]\n",
    "}\n",
    "\n",
    "model = GridSearchCV(estimator = xgb_model,param_grid = test_params,cv=5)\n",
    "model.fit(x_train_pca_reduced,y_train_pca_reduced)\n",
    "end = time.time()\n",
    "print(\"Training set shape: {}\".format(x_train_pca_reduced.shape))\n",
    "print(\"Training duration: {}\".format(time.strftime('%Hh:%Mm:%Ss', time.gmtime(end - start))))\n",
    "print(\"Best parameters: {}\".format(model.best_params_))\n",
    "print(\"Best score: {:.4f}\".format(model.best_score_))\n",
    "\n",
    "#testing\n",
    "y_pred = model.predict(x_test_pca)\n",
    "predictions = [round(value) for value in y_pred]\n",
    "accuracy = metrics.accuracy_score(y_test, predictions)\n",
    "print(\"Accuracy: {:.2f}%\".format(accuracy * 100.0))"
   ]
  },
  {
   "cell_type": "code",
   "execution_count": 71,
   "metadata": {},
   "outputs": [
    {
     "data": {
      "image/png": "[encoded data removed]",
      "text/plain": [
       "<Figure size 864x576 with 1 Axes>"
      ]
     },
     "metadata": {
      "needs_background": "light"
     },
     "output_type": "display_data"
    }
   ],
   "source": [
    "cv_results = pd.DataFrame(model.cv_results_)\n",
    "fig = plt.figure(figsize=(12,8))\n",
    "plt.hist(cv_results.mean_test_score*100, edgecolor='black', linewidth=1.2, bins=12)\n",
    "plt.title(\"Histogram of accuracies - cross validation\",fontsize=16)\n",
    "plt.xlabel(\"accuracy (%)\", fontsize=15)\n",
    "plt.ylabel(\"count\", fontsize=15)\n",
    "plt.yticks(range(2,20,2), fontsize=13)\n",
    "plt.xticks(fontsize=13)\n",
    "plt.grid(axis='y',linestyle='--', linewidth=0.5)\n"
   ]
  },
  {
   "cell_type": "markdown",
   "metadata": {},
   "source": [
    "### Comparison of cross validation for different training set sizes for PCA dataset"
   ]
  },
  {
   "cell_type": "markdown",
   "metadata": {},
   "source": [
    "<table style=\"font-size:110%;width:100%\">\n",
    "  <tr>\n",
    "    <th>Training set shape</th>\n",
    "    <th>Training duration</th>\n",
    "    <th>Best parameters</th>\n",
    "    <th>Accuracy</th>\n",
    "  </tr>\n",
    "  <tr>\n",
    "    <td>(3000, 40)</td>\n",
    "    <td>00h:38m:44s</td>\n",
    "    <td>{'eta': 0.01, 'gamma': 0.0, 'max_depth': 6, 'min_child_weight': 4}</td>\n",
    "    <td>90.67%</td>  \n",
    "  </tr>\n",
    "  <tr>\n",
    "    <td>(12000, 40)</td>\n",
    "    <td>06h:21m:47s</td>\n",
    "    <td>{'eta': 0.01, 'gamma': 0.0, 'max_depth': 6, 'min_child_weight': 4}</td>\n",
    "    <td>93.40%</td>  \n",
    "  </tr>\n",
    "</table>"
   ]
  },
  {
   "cell_type": "markdown",
   "metadata": {},
   "source": [
    "### Saving the cross validation results"
   ]
  },
  {
   "cell_type": "code",
   "execution_count": 14,
   "metadata": {},
   "outputs": [],
   "source": [
    "import pickle\n",
    "with open('best_xgboost_model.pkl', 'wb') as fid:\n",
    "    pickle.dump(model, fid)\n",
    "    \n",
    "#to load\n",
    "# with open('best_xgboost_model.pkl', 'rb') as fid:\n",
    "#     gnb = pickle.load(fid)"
   ]
  },
  {
   "cell_type": "markdown",
   "metadata": {},
   "source": [
    "### Final model training"
   ]
  },
  {
   "cell_type": "markdown",
   "metadata": {},
   "source": [
    "The results from cross validation (in total 405 fits) show that parameter tuning did not vastly improve the model's accuracy, which is roughly between 92.5% - 94%. As the final step for this analysis, the best parameters will be used to fit the whole reduced dataset by PCA - training set shape (60000, 40)."
   ]
  },
  {
   "cell_type": "code",
   "execution_count": 93,
   "metadata": {},
   "outputs": [
    {
     "name": "stdout",
     "output_type": "stream",
     "text": [
      "Training duration: 471.37 s\n",
      "Training accuracy: 98.69%\n",
      "Testing accuracy: 95.08%\n"
     ]
    }
   ],
   "source": [
    "start = time.time()\n",
    "xgb_model_final = XGBClassifier()\n",
    "final_params = {'eta': 0.01, 'gamma': 0.0, 'max_depth': 6, 'min_child_weight': 4}\n",
    "xgb_model_final.set_params(**final_params)\n",
    "xgb_model_final.fit(x_train_pca, y_train)\n",
    "end = time.time()\n",
    "print(\"Training duration: {:.2f} s\".format(end - start))\n",
    "\n",
    "predict_and_print_accuracy(xgb_model_final, x_train_pca, y_train, \"Training accuracy\")\n",
    "predict_and_print_accuracy(xgb_model_final, x_test_pca, y_test, \"Testing accuracy\")"
   ]
  },
  {
   "cell_type": "code",
   "execution_count": 92,
   "metadata": {},
   "outputs": [],
   "source": [
    "def predict_and_print_accuracy(model, X, Y, accuracy_info=\"Accuracy\"):\n",
    "    y_pred = model.predict(X)\n",
    "    predictions = [round(value) for value in y_pred]\n",
    "    accuracy = metrics.accuracy_score(Y, predictions)\n",
    "    print(\"{}: {:.2f}%\".format(accuracy_info, accuracy * 100.0))"
   ]
  }
 ],
 "metadata": {
  "kernelspec": {
   "display_name": "Python 3",
   "language": "python",
   "name": "python3"
  },
  "language_info": {
   "codemirror_mode": {
    "name": "ipython",
    "version": 3
   },
   "file_extension": ".py",
   "mimetype": "text/x-python",
   "name": "python",
   "nbconvert_exporter": "python",
   "pygments_lexer": "ipython3",
   "version": "3.6.6"
  }
 },
 "nbformat": 4,
 "nbformat_minor": 2
}
